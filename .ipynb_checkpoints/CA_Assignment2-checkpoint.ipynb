{
 "cells": [
  {
   "cell_type": "code",
   "execution_count": 1,
   "metadata": {},
   "outputs": [],
   "source": [
    "# ASSIGNMENTS\n",
    "# TASK ONE: NUMBERS AND VARIABLES\n",
    "# 1.\tCreate three variables in a single a line and assign different values to them and make sure their data types are different. Like one is int, another one is float and the last one is a string.\n",
    "\n",
    "i_var = 123\n",
    "f_var = 1.2\n",
    "s_var = 'Deepen'"
   ]
  },
  {
   "cell_type": "code",
   "execution_count": 2,
   "metadata": {},
   "outputs": [],
   "source": [
    "#2. \tCreate a variable of value type complex and swap it with another variable whose value is an integer.\n",
    "c_var = 3.14j\n",
    "\n",
    "c_var = i_var"
   ]
  },
  {
   "cell_type": "code",
   "execution_count": 3,
   "metadata": {},
   "outputs": [
    {
     "name": "stdout",
     "output_type": "stream",
     "text": [
      "a=2,b=1\n"
     ]
    }
   ],
   "source": [
    "#3. \tSwap two numbers using the third variable as the result name and do the same task without using any third variable.\n",
    "\n",
    "a=1\n",
    "b=2\n",
    "result = a\n",
    "a = b \n",
    "b = result\n",
    "\n",
    "print(f'a={a},b={b}')"
   ]
  },
  {
   "cell_type": "code",
   "execution_count": 5,
   "metadata": {},
   "outputs": [
    {
     "name": "stdout",
     "output_type": "stream",
     "text": [
      "enter your name deepen\n",
      "deepen\n"
     ]
    }
   ],
   "source": [
    "#4. \tWrite a program to print the value given by the user by using both Python 2.x and Python 3.x Version.\n",
    "#python 2.x\n",
    "# name = raw_input('enter your name ')\n",
    "# print 'name'\n",
    "\n",
    "#python 3.x\n",
    "name = input('enter your name ')\n",
    "print (name)"
   ]
  },
  {
   "cell_type": "code",
   "execution_count": 6,
   "metadata": {},
   "outputs": [
    {
     "name": "stdout",
     "output_type": "stream",
     "text": [
      "Enter any number between  1-10 : 5\n",
      "Enter any number between  1-10 : 1\n",
      "sum of two number is z = 6\n"
     ]
    }
   ],
   "source": [
    "#5. \tWrite a program to complete the task given below:\n",
    "# Ask the user to enter any 2 numbers in between 1-10 and add both of them to another variable call z.\n",
    "z = 0\n",
    "for i in range (2):\n",
    "\tnum = int(input('Enter any number between  1-10 : '))\n",
    "\tz = z + num\n",
    "\ti+=1\n",
    "print(f'sum of two number is z = {z}')\n",
    "\n",
    "# Use z for adding 30 into it and print the final result by using variable result.\n",
    "z+=30\n",
    "print(f'Value of Z after adding 30 is {z}')"
   ]
  },
  {
   "cell_type": "code",
   "execution_count": 7,
   "metadata": {},
   "outputs": [
    {
     "name": "stdout",
     "output_type": "stream",
     "text": [
      "enter value to check the data type5\n",
      "The input data type is:<class 'int'>\n"
     ]
    }
   ],
   "source": [
    "# 6. \tWrite a program to check the data type of the entered values. HINT: Printed output should say -  The input value data type is: int/float/string/etc\n",
    "user_input = eval(input('enter value to check the data type'))\n",
    "print(f'The input data type is:{type(user_input)}')"
   ]
  },
  {
   "cell_type": "code",
   "execution_count": 8,
   "metadata": {},
   "outputs": [],
   "source": [
    "# 7. \tCreate Variable using CamelCase, LadderCase and UPPERCASE. (Refer:   https://capitalizemytitle.com/camel-case/) - Variable Conventions to write\n",
    "Variable = 10\n",
    "variable = 12\n",
    "VARIABLES = 14"
   ]
  },
  {
   "cell_type": "code",
   "execution_count": 1,
   "metadata": {},
   "outputs": [],
   "source": [
    "# 8. \tIf one data type value is assigned to ‘a’ variable and then a different data type value is assigned to ‘a’ again. Will it change the value. If Yes then Why?\n",
    "# yes, because python is dynamic language and the data type of the variable changes, when a different data type value is aasigned to that variable.\n",
    " "
   ]
  },
  {
   "cell_type": "code",
   "execution_count": 2,
   "metadata": {},
   "outputs": [],
   "source": [
    "# TASK TWO: OPERATORS AND DECISION MAKING STATEMENTS"
   ]
  },
  {
   "cell_type": "code",
   "execution_count": 5,
   "metadata": {},
   "outputs": [
    {
     "name": "stdout",
     "output_type": "stream",
     "text": [
      "Consultadd\n",
      "c\n",
      "Consultadd Python Training\n"
     ]
    }
   ],
   "source": [
    "# 1. Write a program in Python to perform the following operation:\n",
    "\n",
    "# ● If a number is divisible by 3 it should print “Consultadd” as a string\n",
    "\n",
    "# ● If a number is divisible by 5 it should print “c” as a string\n",
    "\n",
    "# ● If a number is divisible by both 3 and 5 its should print “Consultadd\n",
    "\n",
    "# # Python Training” as a string\n",
    "\n",
    "num = 15\n",
    "if num % 3 == 0:\n",
    "    print(\"Consultadd\")\n",
    "if num % 5 == 0:\n",
    "    print(\"c\")\n",
    "if (num % 3 == 0) and num % 5 == 0:\n",
    "    print(\"Consultadd Python Training\")"
   ]
  },
  {
   "cell_type": "code",
   "execution_count": 13,
   "metadata": {},
   "outputs": [
    {
     "name": "stdout",
     "output_type": "stream",
     "text": [
      "choose the following option first 1 - Addition, 2 - Subtraction, 3 - Division,  4 - Multiplication, 5 - Average2\n",
      "Enter first number 5\n",
      "Enter second number10\n",
      "Subtraction of two numbers is -5\n",
      "Zsa\n"
     ]
    }
   ],
   "source": [
    "# 2. Write a program in Python to perform the following operator based task:\n",
    "# ● Ask the user to choose the following option first:\n",
    "# ○ If User Enter 1 - Addition\n",
    "# ○ If User Enter 2 - Subtraction\n",
    "# ○ If User Enter 3 - Division\n",
    "# ○ If USer Enter 4 - Multiplication\n",
    "# ○ If User Enter 5 - Average\n",
    "# ● Ask the user to enter the 2 numbers in a variable for first and second for\n",
    "# the first 4 options mentioned above.\n",
    "# ● Ask the user to enter two more numbers as first1 and second2 for\n",
    "# calculating the average as soon as the user chooses an option 5.\n",
    "# ● In the end, if the answer of any operation is Negative print a statement\n",
    "# saying “Zsa”\n",
    "# ● NOTE: At a time users can perform one action at a time.\n",
    "action = int(input(\"choose the following option first 1 - Addition, 2 - Subtraction, 3 - Division,  4 - Multiplication, 5 - Average\"))\n",
    "num_1 = int(input(\"Enter first number \"))\n",
    "num_2 = int(input(\"Enter second number\"))\n",
    "\n",
    "if action == 1:\n",
    "    answer = num_1+num_2\n",
    "    print(f'Addition of two numbers is {answer}')\n",
    "if action == 2:\n",
    "    answer = num_1-num_2\n",
    "    print(f'Subtraction of two numbers is {answer}')\n",
    "if action == 3:\n",
    "    answer = num_1/num_2\n",
    "    print(f'Division of two numbers is {answer}')\n",
    "if action == 4:\n",
    "    answer = num_1*num_2\n",
    "    print(f'Multiplication of two numbers is {answer}')\n",
    "if action == 5:\n",
    "    first1 = int(input('Enter a number'))\n",
    "    second2 = int(input('Enter another number'))\n",
    "    answer = (num_1+num_2+first1+second2)/4\n",
    "    print(f'Average of all numbers is {answer}')\n",
    "if answer < 0 :\n",
    "    print(\"Zsa\")\n",
    "\n"
   ]
  },
  {
   "cell_type": "code",
   "execution_count": null,
   "metadata": {},
   "outputs": [],
   "source": []
  }
 ],
 "metadata": {
  "kernelspec": {
   "display_name": "Python 3",
   "language": "python",
   "name": "python3"
  },
  "language_info": {
   "codemirror_mode": {
    "name": "ipython",
    "version": 3
   },
   "file_extension": ".py",
   "mimetype": "text/x-python",
   "name": "python",
   "nbconvert_exporter": "python",
   "pygments_lexer": "ipython3",
   "version": "3.7.6"
  }
 },
 "nbformat": 4,
 "nbformat_minor": 4
}
