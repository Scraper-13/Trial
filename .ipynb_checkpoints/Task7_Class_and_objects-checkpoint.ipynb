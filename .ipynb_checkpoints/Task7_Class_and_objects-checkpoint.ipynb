{
 "cells": [
  {
   "cell_type": "code",
   "execution_count": 25,
   "metadata": {},
   "outputs": [
    {
     "name": "stdout",
     "output_type": "stream",
     "text": [
      "Enter Value of D10\n",
      "['10']\n",
      "5.773502691896258\n",
      "81\n",
      "25\n",
      "[[-10, 2, 8], [-7, -3, 10]]\n"
     ]
    },
    {
     "data": {
      "text/plain": [
       "[[-10, 2, 8], [-7, -3, 10]]"
      ]
     },
     "execution_count": 25,
     "metadata": {},
     "output_type": "execute_result"
    }
   ],
   "source": [
    "# TASK SEVEN: CLASSES AND OBJECTS \n",
    "\n",
    "# 1. Write a program that calculates and prints the value according to the given formula: \n",
    "# Q= Square root of [(2*C*D)/H] \n",
    "# Following are the fixed values of C and H: \n",
    "# C is 50. H is 30. \n",
    "# D is the variable whose values should be input to your program in a comma-separated sequence. \n",
    "import math\n",
    "\n",
    "C=50\n",
    "H=30\n",
    "D=input('Enter Value of D')\n",
    "list_D=D.split(',')\n",
    "print(list_D)\n",
    "\n",
    "for i in range(len(list_D)):\n",
    "    Q=math.sqrt((2*C*int(list_D[i])/H))\n",
    "    print(Q)\n",
    "\n",
    "\n"
   ]
  },
  {
   "cell_type": "code",
   "execution_count": null,
   "metadata": {},
   "outputs": [],
   "source": [
    "\n",
    "\n",
    "\n",
    "# 2. Define a class named Shape and its subclass Square. The Square class has an init function which takes a length as argument. Both classes have an area function which can print the area of the shape where Shape’s area is 0 by default. \n",
    "\n",
    "    \n",
    "class Shape:\n",
    "    def area(self,l=0):\n",
    "        res=l*l\n",
    "        return res\n",
    "    \n",
    "class Square(shape):\n",
    "    def __init__(self,length):\n",
    "        self.length=length\n",
    "\n",
    "    def area(self,l=0):\n",
    "        l=self.length\n",
    "        res=l*l\n",
    "        return res\n",
    "        \n",
    "s2=Shape()\n",
    "print(s2.area(9))\n",
    "\n",
    "s1=Square(5)\n",
    "print(s1.area())\n"
   ]
  },
  {
   "cell_type": "code",
   "execution_count": 33,
   "metadata": {},
   "outputs": [
    {
     "name": "stdout",
     "output_type": "stream",
     "text": [
      "[[-10, 2, 8], [-7, -3, 10]]\n"
     ]
    },
    {
     "data": {
      "text/plain": [
       "[[-10, 2, 8], [-7, -3, 10]]"
      ]
     },
     "execution_count": 33,
     "metadata": {},
     "output_type": "execute_result"
    }
   ],
   "source": [
    "\n",
    "# 3.Create a class to find the three elements that sum to zero from a set of n real numbers. \n",
    "# Input array: [-25,-10,-7,-3,2,4,8,10] \n",
    "# Output: [[-10,2,8],[-7,-3,10]] \n",
    "\n",
    "class ThreeElements:\n",
    "    def find_zero(self,array):\n",
    "        res_array=[]\n",
    "        for i in array:\n",
    "            for j in array:\n",
    "                for k in array:\n",
    "                    if i+j+k==0:\n",
    "                        x1=sorted([i,j,k])\n",
    "                        if x1 not in res_array:\n",
    "                            res_array.append(x1)\n",
    "        print (res_array)\n",
    "        return res_array\n",
    "\n",
    "test1=ThreeElements()\n",
    "test1.find_zero([-25,-10,-7,-3,2,4,8,10])\n"
   ]
  },
  {
   "cell_type": "code",
   "execution_count": 41,
   "metadata": {},
   "outputs": [
    {
     "name": "stdout",
     "output_type": "stream",
     "text": [
      "30 abc\n"
     ]
    }
   ],
   "source": [
    "\n",
    "\n",
    "# 4.What is the output of the following code? Explain your answer as well. \n",
    "'''\n",
    "class Test: \n",
    "    def __init__(self): \n",
    "        self.x = 0 \n",
    "        \n",
    "class Derived_Test(Test): \n",
    "    def __init__(self): \n",
    "#         super().__init__()\n",
    "        self.y = 1 \n",
    "        \n",
    "def main(): \n",
    "    b = Derived_Test() \n",
    "    print(b.x,b.y) \n",
    "main() \n",
    "'''\n",
    "\n",
    "# => You will get an error, because attribute(i.e x) is not inherited from super class test in sub class Derived_test using \" super().__init__() \"\n",
    "\n",
    "  \n",
    "'''\n",
    "class A: \n",
    "    def __init__(self, x= 1): \n",
    "        self.x = x \n",
    "\n",
    "class der(A): \n",
    "    def __init__(self,y = 2): \n",
    "        super().__init__() \n",
    "        self.y = y \n",
    "\n",
    "def main(): \n",
    "    obj = der() \n",
    "    print(obj.x, obj.y) \n",
    "main()\n",
    "'''\n",
    "\n",
    "# => The Output would be 1,2 because the value of x is inherited from super class (A) and y from sub class (der)\n",
    "  \n",
    "'''\n",
    "class A: \n",
    "    def __init__(self,x): \n",
    "        self.x = x \n",
    "    def count(self,x): \n",
    "        self.x = self.x+1 \n",
    "\n",
    "class B(A): \n",
    "    def __init__(self, y=0): \n",
    "        A.__init__(self, 3) \n",
    "        self.y = y \n",
    "\n",
    "    def count(self): \n",
    "        self.y += 1      \n",
    "\n",
    "def main(): \n",
    "    obj = B() \n",
    "    obj.count() \n",
    "    print(obj.x, obj.y) \n",
    "\n",
    "main() \n",
    "'''\n",
    "\n",
    "# => The Output would be 3,1 because the value of x in class B is 3, the value of y = 0, but the count funcion increments y by 1 every time we call it.\n",
    "\n",
    "'''\n",
    "class A: \n",
    "    def __init__(self): \n",
    "        self.multiply(15) \n",
    "        print(self.i) \n",
    "\n",
    "    def multiply(self, i): \n",
    "        self.i = 4 * i; \n",
    "\n",
    "class B(A): \n",
    "    def __init__(self): \n",
    "        super().__init__() \n",
    "\n",
    "    def multiply(self, i): \n",
    "        self.i = 2 * i; \n",
    "\n",
    "obj = B() \n",
    "'''\n",
    "\n",
    "# => the Output is 30, because the by intantiaing class(b), the function (multiply) executed, where i = 15 value is inherited from superclass A.\n"
   ]
  },
  {
   "cell_type": "code",
   "execution_count": 7,
   "metadata": {},
   "outputs": [
    {
     "name": "stdout",
     "output_type": "stream",
     "text": [
      "4 Hours and  10  Minutes\n"
     ]
    },
    {
     "data": {
      "text/plain": [
       "(4, 10)"
      ]
     },
     "execution_count": 7,
     "metadata": {},
     "output_type": "execute_result"
    }
   ],
   "source": [
    "\n",
    "# 5. Create a Time class and initialize it with hours and minutes. \n",
    "\n",
    "# Make a method addTime which should take two time object and add them. E.g.- (2 hour and 50 min)+(1 hr and 20 min) is (4 hr and 10 min) \n",
    "\n",
    "# Make a method displayTime which should print the time. \n",
    "\n",
    "class time:\n",
    "    def __init__(self,hours,minutes):\n",
    "        self.hours=hours\n",
    "        self.minutes=minutes\n",
    "    \n",
    "def addTime(t1,t2):\n",
    "    res1 = (t1.hours*60) + t1.minutes\n",
    "    res2 = (t2.hours*60) + t2.minutes\n",
    "    result = res1+res2\n",
    "    hr = result//60\n",
    "    mi = result%60\n",
    "    print(hr,'Hours and ',mi,' Minutes')\n",
    "    return hr,mi\n",
    "    \n",
    "o1=time(2,50)\n",
    "o2 = time(1,20)\n",
    "\n",
    "addTime(o1,o2)\n",
    "\n",
    "\n",
    " \n",
    "\n",
    " \n",
    "\n",
    " \n",
    "\n",
    " \n",
    "\n",
    "# Make a method DisplayMinute which should display the total minutes in the Time. E.g.- (1 hr 2 min) should display 62 minute. \n",
    "\n",
    " \n"
   ]
  },
  {
   "cell_type": "code",
   "execution_count": null,
   "metadata": {},
   "outputs": [],
   "source": [
    "\n",
    "# 6.  Write a Person class with an instance variable, , and a constructor that takes an integer, , as a parameter. The constructor must assign  to  after confirming the argument passed as  is not negative; if a negative argument is passed as , the constructor should set  to  and print Age is not valid, setting age to 0.. In addition, you must write the following instance methods: \n",
    "\n",
    "# yearPasses() should increase the  instance variable by . \n",
    "\n",
    "# amIOld()  should perform the following conditional actions: \n",
    "\n",
    "# If , print You are young.. \n",
    "\n",
    "# If  and , print You are a teenager.. \n",
    "\n",
    "# Otherwise, print You are old..  \n",
    "\n",
    "# Sample Input: \n",
    "\n",
    "# 4 \n",
    "\n",
    "# -1 \n",
    "\n",
    "# 10 \n",
    "\n",
    "# 16 \n",
    "\n",
    "# 18 \n",
    "\n",
    "# Sample Output: \n",
    "\n",
    "# Age is not valid, setting age to 0. \n",
    "\n",
    "# You are young. \n",
    "\n",
    "# You are young. \n",
    "\n",
    "  \n",
    "\n",
    "# You are young. \n",
    "\n",
    "# You are a teenager. \n",
    "\n",
    "  \n",
    "\n",
    "# You are a teenager. \n",
    "\n",
    "# You are old. \n",
    "\n",
    "  \n",
    "\n",
    "# You are old. \n",
    "\n",
    "# You are old. \n"
   ]
  }
 ],
 "metadata": {
  "kernelspec": {
   "display_name": "Python 3",
   "language": "python",
   "name": "python3"
  },
  "language_info": {
   "codemirror_mode": {
    "name": "ipython",
    "version": 3
   },
   "file_extension": ".py",
   "mimetype": "text/x-python",
   "name": "python",
   "nbconvert_exporter": "python",
   "pygments_lexer": "ipython3",
   "version": "3.7.6"
  }
 },
 "nbformat": 4,
 "nbformat_minor": 4
}
