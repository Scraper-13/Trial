{
 "cells": [
  {
   "cell_type": "code",
   "execution_count": 4,
   "metadata": {},
   "outputs": [
    {
     "data": {
      "text/plain": [
       "'dcba4321'"
      ]
     },
     "execution_count": 4,
     "metadata": {},
     "output_type": "execute_result"
    }
   ],
   "source": [
    "# TASK FOUR: FUNCTION \n",
    "\n",
    " \n",
    "\n",
    "# 1. Write a program using function USINto reverse a string. \n",
    "# Sample_data: '1234abcd'\n",
    "# Expected Output: “dcba4321” \n",
    "\n",
    "sample_data='1234abcd'\n",
    "\n",
    "def reverse_string(string):\n",
    "    reverse=string[::-1]\n",
    "    return reverse\n",
    "\n",
    "reverse_string(sample_data)\n",
    "\n"
   ]
  },
  {
   "cell_type": "code",
   "execution_count": 8,
   "metadata": {},
   "outputs": [
    {
     "name": "stdout",
     "output_type": "stream",
     "text": [
      "No. of Upper case characters :  0\n",
      "No. of lower case characters :  4\n"
     ]
    }
   ],
   "source": [
    "\n",
    "\n",
    "\n",
    "\n",
    "# 2. Write a function that accepts a string and calculate the number of uppercase letters and lowercase letters. \n",
    "\n",
    "# Expected Output: \n",
    "\n",
    "# No. of Upper case characters : 3 \n",
    "\n",
    "# No. of Lower case Characters : 12 \n",
    "\n",
    "def count_lower_upper_case(string):\n",
    "    u=0\n",
    "    l=0\n",
    "    for i in string:\n",
    "        if i.isdigit()!=True:\n",
    "            if i.islower()== True:\n",
    "                l=l+1\n",
    "            else:\n",
    "                u=u+1\n",
    "    print('No. of Upper case characters : ', u)\n",
    "    print('No. of lower case characters : ', l) \n",
    "    \n",
    "\n",
    "count_lower_upper_case(sample_data)    \n",
    "\n"
   ]
  },
  {
   "cell_type": "code",
   "execution_count": 10,
   "metadata": {},
   "outputs": [
    {
     "data": {
      "text/plain": [
       "[1, 2, 3, 4, 5, 6, 7]"
      ]
     },
     "execution_count": 10,
     "metadata": {},
     "output_type": "execute_result"
    }
   ],
   "source": [
    "\n",
    "# 3.        Create a function that takes a list and returns a new list with unique elements of the first list. \n",
    "\n",
    "sample_list =[1,1,2,2,3,3,4,4,5,6,6,7]\n",
    "\n",
    "def unique_list(list1):\n",
    "    unique_list= set(list1)\n",
    "    return (list(unique_list))\n",
    "\n",
    "unique_list(sample_list)\n",
    "\n"
   ]
  },
  {
   "cell_type": "code",
   "execution_count": 24,
   "metadata": {},
   "outputs": [
    {
     "name": "stdout",
     "output_type": "stream",
     "text": [
      "['deepen', 'hi', 'is', 'my', 'name', 'patel']\n",
      "deepen-hi-is-my-name-patel\n"
     ]
    }
   ],
   "source": [
    "# 4.        Write a program that accepts a hyphen-separated sequence of words as input and prints the words in a hyphen-separated sequence after sorting them alphabetically. \n",
    "\n",
    "\n",
    "seq='hi-my-name-is-deepen-patel'\n",
    "\n",
    "list_seq=sorted(seq.split('-'))\n",
    "\n",
    "print(list_seq)\n",
    "\n",
    "sorted_string = ''\n",
    "for word in list_seq:\n",
    "    if word!=list_seq[-1]:\n",
    "        sorted_string+=word + '-'\n",
    "    else:\n",
    "        sorted_string+=word\n",
    "        \n",
    "\n",
    "print(sorted_string)\n",
    "    \n",
    "\n"
   ]
  },
  {
   "cell_type": "code",
   "execution_count": 25,
   "metadata": {},
   "outputs": [
    {
     "name": "stdout",
     "output_type": "stream",
     "text": [
      "hi how are you\n",
      "i am fine\n",
      "how about you\n",
      "\n",
      "HI HOW ARE YOU\n",
      "I AM FINE\n",
      "HOW ABOUT YOU\n"
     ]
    }
   ],
   "source": [
    "\n",
    "# 5.         Write a program that accepts a sequence of lines as input and prints the lines after making all characters in the sentence capitalized. \n",
    "\n",
    "# Sample input: \n",
    "\n",
    "# Hello world \n",
    "\n",
    "# Practice makes perfect \n",
    "\n",
    "# Expected Output: \n",
    "\n",
    "# HELLO WORLD \n",
    "\n",
    "# PRACTICE MAKES PERFECT \n",
    "\n",
    "lines =[]\n",
    "\n",
    "while True:\n",
    "    l=input()\n",
    "    if l:\n",
    "        lines.append(l.upper())\n",
    "    else:\n",
    "        break\n",
    "        \n",
    "for l in lines:\n",
    "    print(l)\n",
    "\n"
   ]
  },
  {
   "cell_type": "code",
   "execution_count": 29,
   "metadata": {},
   "outputs": [
    {
     "name": "stdout",
     "output_type": "stream",
     "text": [
      "The sum of two integral string number is : 100\n"
     ]
    }
   ],
   "source": [
    "# 6.          Define a function that can receive two integral numbers in string form and compute their sum and print it in console. \n",
    "\n",
    "num1='45'\n",
    "num2='55'\n",
    "\n",
    "def sum_string_num(string_num1,string_num2):\n",
    "    list_num=[int(string_num1),int(string_num2)]\n",
    "    return sum(list_num)\n",
    "print('The sum of two integral string number is :',sum_string_num(num1,num2))\n",
    "    \n"
   ]
  },
  {
   "cell_type": "code",
   "execution_count": 31,
   "metadata": {},
   "outputs": [
    {
     "name": "stdout",
     "output_type": "stream",
     "text": [
      "Practice makes perfect \n"
     ]
    }
   ],
   "source": [
    " \n",
    "\n",
    "# 7.        Define a function that can accept two strings as input and print the string with maximum length in console. If two strings have the same length, then the function should print all strings line by line. \n",
    "\n",
    "string1='Practice makes perfect '\n",
    "string2='Hello world'\n",
    "\n",
    "def max_string(s1,s2):\n",
    "    if len(s1)>=len(s2):\n",
    "        print(s1)\n",
    "    elif len(s1)==len(s2):\n",
    "        print(s1)\n",
    "        print(s2)\n",
    "    else:\n",
    "        print(s2)\n",
    "max_string(string1,string2)\n",
    "\n",
    "\n"
   ]
  },
  {
   "cell_type": "code",
   "execution_count": 33,
   "metadata": {},
   "outputs": [
    {
     "name": "stdout",
     "output_type": "stream",
     "text": [
      "(1, 4, 9, 16, 25, 36, 49, 64, 81, 100, 121, 144, 169, 196, 225, 256, 289, 324, 361, 400)\n"
     ]
    }
   ],
   "source": [
    "\n",
    "# 8.        Define a function which can generate and print a tuple where the value are square of numbers between 1 and 20.\t \n",
    "list1=[]\n",
    "for i in range(1,21):\n",
    "    list1.append(i**2)\n",
    "print(tuple(list1))\n",
    "\n"
   ]
  },
  {
   "cell_type": "code",
   "execution_count": 36,
   "metadata": {},
   "outputs": [
    {
     "name": "stdout",
     "output_type": "stream",
     "text": [
      "0 EVEN\n",
      "1 ODD\n",
      "2 EVEN\n"
     ]
    }
   ],
   "source": [
    "# 9.         Write a function called showNumbers that takes a parameter called limit. It should print all the numbers between 0 and limit with a label to identify the even and odd numbers.  \n",
    "\n",
    "# Example: If the limit is 3 , it should print: \n",
    "\n",
    "# 0 EVEN \n",
    "\n",
    "# 1 ODD \n",
    "\n",
    "# 2 EVEN \n",
    "\n",
    "# 3 ODD \n",
    "\n",
    "def shownumbers(limit):\n",
    "    for i in range(0,limit):\n",
    "        if i%2==0:\n",
    "            print(i,'EVEN')\n",
    "        else:\n",
    "            print(i,'ODD')\n",
    "\n",
    "shownumbers(3)\n",
    " \n",
    " \n"
   ]
  },
  {
   "cell_type": "code",
   "execution_count": 48,
   "metadata": {},
   "outputs": [
    {
     "name": "stdout",
     "output_type": "stream",
     "text": [
      "[0, 1, 2, 3, 4, 5, 6, 7, 8, 9, 10, 11, 12, 13, 14, 15, 16, 17, 18, 19, 20]\n",
      "[0, 2, 4, 6, 8, 10, 12, 14, 16, 18, 20]\n"
     ]
    }
   ],
   "source": [
    "\n",
    "# 10. Write a program which can filter() to make a list whose elements are even number between 1 and 20 ( both included) \n",
    "\n",
    "# list2=[x for x in range(0,21)]\n",
    "\n",
    "filtered_list=filter(lambda x: (x%2==0),[x for x in range(0,21)]) \n",
    "print(list2)\n",
    "print(list(filtered_list))\n",
    "\n"
   ]
  },
  {
   "cell_type": "code",
   "execution_count": 51,
   "metadata": {},
   "outputs": [
    {
     "name": "stdout",
     "output_type": "stream",
     "text": [
      "[4, 16, 36, 64, 100]\n"
     ]
    }
   ],
   "source": [
    "\n",
    "# 11. Write a program which can map() and filter() to make a list whose elements are square of even number in [1,2,3,4,5,6,7,8,9,10] \n",
    "\n",
    "# Hints: Use map() to generate a list. \n",
    "\n",
    "#           Use filter() to filter elements of a list \n",
    "\n",
    "#             Use lambda to define anonymous functions \n",
    "\n",
    "list3=[1,2,3,4,5,6,7,8,9,10]\n",
    "filtered_list1=filter(lambda x:x%2==0,list3)\n",
    "mapped_list=map(lambda x:x**2,filtered_list1)\n",
    "print(list(mapped_list))\n",
    "\n"
   ]
  },
  {
   "cell_type": "code",
   "execution_count": 56,
   "metadata": {},
   "outputs": [
    {
     "name": "stdout",
     "output_type": "stream",
     "text": [
      "You cannot divide 5 by 0\n"
     ]
    }
   ],
   "source": [
    "\n",
    "# 12. Write a function to compute 5/0 and use try/except to catch the exceptions \n",
    "\n",
    "while True:\n",
    "    try:\n",
    "        result = 5/0\n",
    "        print(result)\n",
    "    except:\n",
    "        print('You cannot divide 5 by 0')\n",
    "        break\n",
    "    else:\n",
    "        print('This is the result:',result)\n",
    "        break\n",
    "    \n"
   ]
  },
  {
   "cell_type": "code",
   "execution_count": 61,
   "metadata": {},
   "outputs": [
    {
     "name": "stdout",
     "output_type": "stream",
     "text": [
      "[1, 2, 3, 4, 5, 6, 7, 8]\n"
     ]
    }
   ],
   "source": [
    "\n",
    "# 13. Flatten the list [[1,2,3].,[4,5],[6,7,8]] into [1,2,3,4,5,6,7,8] using reduce \n",
    "\n",
    "# Goal : Turn [1,2,3,4,5,6,7] to 1234567 \n",
    "from functools import reduce\n",
    "\n",
    "lists=[[1,2,3],[4,5],[6,7,8]]\n",
    "joined_list=reduce(lambda x,y:x+y,lists)\n",
    "print(joined_list)\n",
    "\n"
   ]
  },
  {
   "cell_type": "code",
   "execution_count": 65,
   "metadata": {},
   "outputs": [
    {
     "name": "stdout",
     "output_type": "stream",
     "text": [
      "2\n"
     ]
    }
   ],
   "source": [
    "\n",
    "#  14.  \n",
    "\n",
    "def foo(): \n",
    "    try: \n",
    "        return 1 \n",
    "    finally: \n",
    "        return 2 \n",
    "\n",
    "k = foo() \n",
    "\n",
    "print(k) \n",
    "\n",
    "\n",
    "# # (ii) \n",
    "# def a(): \n",
    "#     try: \n",
    "#         f(x, 4) \n",
    "#     finally: \n",
    "#         print('after f') \n",
    "#     print('after f?') \n",
    "\n",
    "# a() "
   ]
  },
  {
   "cell_type": "code",
   "execution_count": null,
   "metadata": {},
   "outputs": [],
   "source": []
  }
 ],
 "metadata": {
  "kernelspec": {
   "display_name": "Python 3",
   "language": "python",
   "name": "python3"
  },
  "language_info": {
   "codemirror_mode": {
    "name": "ipython",
    "version": 3
   },
   "file_extension": ".py",
   "mimetype": "text/x-python",
   "name": "python",
   "nbconvert_exporter": "python",
   "pygments_lexer": "ipython3",
   "version": "3.7.6"
  }
 },
 "nbformat": 4,
 "nbformat_minor": 4
}
