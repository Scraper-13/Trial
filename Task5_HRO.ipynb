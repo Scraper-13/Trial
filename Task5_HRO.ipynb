{
 "cells": [
  {
   "cell_type": "code",
   "execution_count": 1,
   "metadata": {},
   "outputs": [
    {
     "name": "stdout",
     "output_type": "stream",
     "text": [
      "[7, 14, 28]\n"
     ]
    }
   ],
   "source": [
    "# TASK FIVE: HIGHER ORDER FUNCTIONS, GENERATORS, LIST COMPREHENSION   \n",
    "\n",
    "# 1. Write a program to Python find the values which is not divisible 3 but is should be a multiple of 7. Make sure to use only higher order function. \n",
    "\n",
    "print(list(filter(lambda x:x%3!=0 and x%7==0,[y for y in range(30)])))\n",
    "\n"
   ]
  },
  {
   "cell_type": "code",
   "execution_count": 7,
   "metadata": {},
   "outputs": [
    {
     "name": "stdout",
     "output_type": "stream",
     "text": [
      "[1, 4, 9, 16, 25]\n"
     ]
    }
   ],
   "source": [
    "\n",
    "# 2. Write a program in Python to  multiple the element of list by itself using a traditional function and pass the function to map to complete the operation. \n",
    "\n",
    "list1=[1,2,3,4,5]\n",
    "def mul_elements(a):\n",
    "    res=a*a\n",
    "    return res\n",
    "print(list(map(mul_elements,list1)))\n",
    "        \n"
   ]
  },
  {
   "cell_type": "code",
   "execution_count": 16,
   "metadata": {},
   "outputs": [
    {
     "name": "stdout",
     "output_type": "stream",
     "text": [
      "['D', 'P']\n",
      "{'Smit': 'CSE', 'Jaya': 'Networking', 'Rayyan': 'Operating System'}\n"
     ]
    }
   ],
   "source": [
    "\n",
    "# 3. Write a program to Python find out the character in a string which is uppercase using list comprehension. \n",
    "\n",
    "string1='Deepen Patel'\n",
    "list1=[x for x in string1 if x.isupper()==True]\n",
    "print(list1)\n",
    "\n"
   ]
  },
  {
   "cell_type": "code",
   "execution_count": 17,
   "metadata": {},
   "outputs": [
    {
     "name": "stdout",
     "output_type": "stream",
     "text": [
      "{'Smit': 'CSE', 'Jaya': 'Networking', 'Rayyan': 'Operating System'}\n"
     ]
    }
   ],
   "source": [
    "\n",
    "# 4. Write a program to construct a dictionary from the two lists containing the names of students and their corresponding subjects. The dictionary should maps the students with their respective subjects. Let’s see how to do this using for loops and dictionary comprehension. HINT-Use Zip function also \n",
    "\n",
    "student = ['Smit', 'Jaya', 'Rayyan'] \n",
    "\n",
    "capital = ['CSE', 'Networking', 'Operating System'] \n",
    "\n",
    " \n",
    "dict1={x:y for x,y in zip(student,capital)}\n",
    "print(dict1)\n",
    " \n"
   ]
  },
  {
   "cell_type": "code",
   "execution_count": 19,
   "metadata": {},
   "outputs": [
    {
     "name": "stdout",
     "output_type": "stream",
     "text": [
      "gniniarT ddatlusnoC\n"
     ]
    }
   ],
   "source": [
    "\n",
    "# 5.  Learn More about Yield, next and Generators \n",
    "\n",
    "# 6. Write a program in Python using generators to reverse the string. Input String = “Consultadd Training” \n",
    "\n",
    "string_input='Consultadd Training'\n",
    "print(string_input[::-1])"
   ]
  },
  {
   "cell_type": "code",
   "execution_count": 29,
   "metadata": {},
   "outputs": [
    {
     "name": "stdout",
     "output_type": "stream",
     "text": [
      "***Decorator starts here***\n",
      "|  This is real function   |\n",
      "--- Decorator ends here ---\n"
     ]
    }
   ],
   "source": [
    " \n",
    "\n",
    "# 7. Write any example on decorators. \n",
    "\n",
    "def main_deco(func1):\n",
    "    def inner1():\n",
    "        print('***Decorator starts here***')\n",
    "        func1()\n",
    "        print('--- Decorator ends here ---')\n",
    "    return inner1\n",
    "\n",
    "@main_deco\n",
    "def real_func():\n",
    "    print('|  This is real function   |')\n",
    "    \n",
    "real_func()\n",
    "\n",
    " \n",
    "\n",
    "# 8. Learn about What is FRONT END and its Technologies and Tools \n",
    "\n",
    "# Make sure to mention at least 5 top notch technologies of Frontend. \n",
    "\n",
    "# Also mentioned the name of companies using those 5 technologies individually "
   ]
  },
  {
   "cell_type": "code",
   "execution_count": null,
   "metadata": {},
   "outputs": [],
   "source": []
  },
  {
   "cell_type": "code",
   "execution_count": null,
   "metadata": {},
   "outputs": [],
   "source": []
  }
 ],
 "metadata": {
  "kernelspec": {
   "display_name": "Python 3",
   "language": "python",
   "name": "python3"
  },
  "language_info": {
   "codemirror_mode": {
    "name": "ipython",
    "version": 3
   },
   "file_extension": ".py",
   "mimetype": "text/x-python",
   "name": "python",
   "nbconvert_exporter": "python",
   "pygments_lexer": "ipython3",
   "version": "3.7.6"
  }
 },
 "nbformat": 4,
 "nbformat_minor": 4
}
