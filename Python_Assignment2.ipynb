{
 "cells": [
  {
   "cell_type": "code",
   "execution_count": 1,
   "metadata": {},
   "outputs": [],
   "source": [
    "# ASSIGNMENTS\n",
    "# TASK ONE: NUMBERS AND VARIABLES\n",
    "# 1.\tCreate three variables in a single a line and assign different values to them and make sure their data types are different. Like one is int, another one is float and the last one is a string.\n",
    "\n",
    "i_var = 123\n",
    "f_var = 1.2\n",
    "s_var = 'Deepen'"
   ]
  },
  {
   "cell_type": "code",
   "execution_count": 2,
   "metadata": {},
   "outputs": [],
   "source": [
    "#2. \tCreate a variable of value type complex and swap it with another variable whose value is an integer.\n",
    "c_var = 3.14j\n",
    "\n",
    "c_var = i_var"
   ]
  },
  {
   "cell_type": "code",
   "execution_count": 2,
   "metadata": {},
   "outputs": [
    {
     "name": "stdout",
     "output_type": "stream",
     "text": [
      "a=2,b=1\n"
     ]
    }
   ],
   "source": [
    "#3. \tSwap two numbers using the third variable as the result name and do the same task without using any third variable.\n",
    "\n",
    "a=1\n",
    "b=2\n",
    "result = a\n",
    "a = b \n",
    "b = result\n",
    "\n",
    "print(f'a={a},b={b}')"
   ]
  },
  {
   "cell_type": "code",
   "execution_count": null,
   "metadata": {},
   "outputs": [],
   "source": [
    "#4. \tWrite a program to print the value given by the user by using both Python 2.x and Python 3.x Version.\n",
    "#python 2.x\n",
    "# name = raw_input('enter your name ')\n",
    "# print 'name'\n",
    "\n",
    "#python 3.x\n",
    "name = input('enter your name ')\n",
    "print (name)"
   ]
  },
  {
   "cell_type": "code",
   "execution_count": null,
   "metadata": {},
   "outputs": [],
   "source": [
    "#5. \tWrite a program to complete the task given below:\n",
    "# Ask the user to enter any 2 numbers in between 1-10 and add both of them to another variable call z.\n",
    "z = 0\n",
    "for i in range (2):\n",
    "\tnum = int(input('Enter any number between  1-10 : '))\n",
    "\tz = z + num\n",
    "\ti+=1\n",
    "print(f'sum of two number is z = {z}')\n",
    "\n",
    "# Use z for adding 30 into it and print the final result by using variable result.\n",
    "z+=30\n",
    "print(f'Value of Z after adding 30 is {z}')"
   ]
  },
  {
   "cell_type": "code",
   "execution_count": 6,
   "metadata": {},
   "outputs": [
    {
     "name": "stdout",
     "output_type": "stream",
     "text": [
      "enter value to check the data type5\n",
      "The input data type is:<class 'int'>\n"
     ]
    }
   ],
   "source": [
    "# 6. \tWrite a program to check the data type of the entered values. HINT: Printed output should say -  The input value data type is: int/float/string/etc\n",
    "user_input = eval(input('enter value to check the data type'))\n",
    "print(f'The input data type is:{type(user_input)}')"
   ]
  },
  {
   "cell_type": "code",
   "execution_count": 7,
   "metadata": {},
   "outputs": [],
   "source": [
    "# 7. \tCreate Variable using CamelCase, LadderCase and UPPERCASE. (Refer:   https://capitalizemytitle.com/camel-case/) - Variable Conventions to write\n",
    "Variable = 10\n",
    "variable = 12\n",
    "VARIABLES = 14"
   ]
  },
  {
   "cell_type": "code",
   "execution_count": 8,
   "metadata": {},
   "outputs": [],
   "source": [
    "# 8. \tIf one data type value is assigned to ‘a’ variable and then a different data type value is assigned to ‘a’ again. Will it change the value. If Yes then Why?\n",
    "# yes, because python is dynamic language and the data type of the variable changes, when a different data type value is aasigned to that variable.\n",
    " "
   ]
  },
  {
   "cell_type": "code",
   "execution_count": 9,
   "metadata": {},
   "outputs": [],
   "source": [
    "# TASK TWO: OPERATORS AND DECISION MAKING STATEMENTS"
   ]
  },
  {
   "cell_type": "code",
   "execution_count": 10,
   "metadata": {},
   "outputs": [
    {
     "name": "stdout",
     "output_type": "stream",
     "text": [
      "Consultadd\n",
      "c\n",
      "Consultadd Python Training\n"
     ]
    }
   ],
   "source": [
    "# 1. Write a program in Python to perform the following operation:\n",
    "\n",
    "# ● If a number is divisible by 3 it should print “Consultadd” as a string\n",
    "\n",
    "# ● If a number is divisible by 5 it should print “c” as a string\n",
    "\n",
    "# ● If a number is divisible by both 3 and 5 its should print “Consultadd\n",
    "\n",
    "# # Python Training” as a string\n",
    "\n",
    "num = 15\n",
    "if num % 3 == 0:\n",
    "    print(\"Consultadd\")\n",
    "if num % 5 == 0:\n",
    "    print(\"c\")\n",
    "if (num % 3 == 0) and num % 5 == 0:\n",
    "    print(\"Consultadd Python Training\")"
   ]
  },
  {
   "cell_type": "code",
   "execution_count": 11,
   "metadata": {},
   "outputs": [
    {
     "name": "stdout",
     "output_type": "stream",
     "text": [
      "choose the following option first 1 - Addition, 2 - Subtraction, 3 - Division,  4 - Multiplication, 5 - Average2\n",
      "Enter first number 5\n",
      "Enter second number4\n",
      "Subtraction of two numbers is 1\n"
     ]
    }
   ],
   "source": [
    "# 2. Write a program in Python to perform the following operator based task:\n",
    "# ● Ask the user to choose the following option first:\n",
    "# ○ If User Enter 1 - Addition\n",
    "# ○ If User Enter 2 - Subtraction\n",
    "# ○ If User Enter 3 - Division\n",
    "# ○ If USer Enter 4 - Multiplication\n",
    "# ○ If User Enter 5 - Average\n",
    "# ● Ask the user to enter the 2 numbers in a variable for first and second for\n",
    "# the first 4 options mentioned above.\n",
    "# ● Ask the user to enter two more numbers as first1 and second2 for\n",
    "# calculating the average as soon as the user chooses an option 5.\n",
    "# ● In the end, if the answer of any operation is Negative print a statement\n",
    "# saying “Zsa”\n",
    "# ● NOTE: At a time users can perform one action at a time.\n",
    "action = int(input(\"choose the following option first 1 - Addition, 2 - Subtraction, 3 - Division,  4 - Multiplication, 5 - Average\"))\n",
    "num_1 = int(input(\"Enter first number \"))\n",
    "num_2 = int(input(\"Enter second number\"))\n",
    "\n",
    "if action == 1:\n",
    "    answer = num_1+num_2\n",
    "    print(f'Addition of two numbers is {answer}')\n",
    "if action == 2:\n",
    "    answer = num_1-num_2\n",
    "    print(f'Subtraction of two numbers is {answer}')\n",
    "if action == 3:\n",
    "    answer = num_1/num_2\n",
    "    print(f'Division of two numbers is {answer}')\n",
    "if action == 4:\n",
    "    answer = num_1*num_2\n",
    "    print(f'Multiplication of two numbers is {answer}')\n",
    "if action == 5:\n",
    "    first1 = int(input('Enter a number'))\n",
    "    second2 = int(input('Enter another number'))\n",
    "    answer = (num_1+num_2+first1+second2)/4\n",
    "    print(f'Average of all numbers is {answer}')\n",
    "if answer < 0 :\n",
    "    print(\"Zsa\")\n",
    "\n"
   ]
  },
  {
   "cell_type": "code",
   "execution_count": 12,
   "metadata": {},
   "outputs": [
    {
     "name": "stdout",
     "output_type": "stream",
     "text": [
      "avg =  20.0\n",
      "Average is just higher than a\n"
     ]
    }
   ],
   "source": [
    "# 3. Write a program in Python to implement the given flowchart:\n",
    "\n",
    "\n",
    "a = 10\n",
    "b = 20\n",
    "c = 30\n",
    "avg = (a+b+c)/3\n",
    "print(\"avg = \",avg)\n",
    "\n",
    "if avg > a and avg > b and avg > c :\n",
    "    print('Average is higher than a, b , c')\n",
    "else:\n",
    "    if avg > a and avg > b :\n",
    "        print('Average is higher than a, b')\n",
    "    elif avg > a and avg > c :\n",
    "        print('Average is higher than a, c')\n",
    "    elif avg > b and avg > c :\n",
    "        print('Average is higher than b, c')\n",
    "    else: \n",
    "        if avg > a :\n",
    "            print('Average is just higher than a')\n",
    "        elif avg > b :\n",
    "            print('Average is just higher than b')\n",
    "        elif avg > c :\n",
    "            print('Average is just higher than c')\n",
    "    "
   ]
  },
  {
   "cell_type": "code",
   "execution_count": 13,
   "metadata": {},
   "outputs": [
    {
     "name": "stdout",
     "output_type": "stream",
     "text": [
      "Enter a number5\n",
      "Good Going\n",
      "Enter a number-1\n",
      "It's over\n"
     ]
    }
   ],
   "source": [
    "# 4. Write a program in Python to break and continue if the following cases occurs:\n",
    "\n",
    "# If user enters a negative number just break the loop and print “It’s Over”\n",
    "\n",
    "# ● If user enters a positive number just continue in the loop and print “Good Going\n",
    "\n",
    "while True: \n",
    "    x = int(input(\"Enter a number\"))\n",
    "    if x < 0:\n",
    "        print(\"It's over\")\n",
    "        break\n",
    "    else:\n",
    "        print(\"Good Going\")\n",
    "        continue"
   ]
  },
  {
   "cell_type": "code",
   "execution_count": 12,
   "metadata": {},
   "outputs": [
    {
     "name": "stdout",
     "output_type": "stream",
     "text": [
      "Numbers which are divisible by 7 but are not a multiple of 5 are\n",
      "2002\n",
      "2009\n",
      "2016\n",
      "2023\n",
      "2037\n",
      "2044\n",
      "2051\n",
      "2058\n",
      "2072\n",
      "2079\n",
      "2086\n",
      "2093\n",
      "2107\n",
      "2114\n",
      "2121\n",
      "2128\n",
      "2142\n",
      "2149\n",
      "2156\n",
      "2163\n",
      "2177\n",
      "2184\n",
      "2191\n",
      "2198\n",
      "2212\n",
      "2219\n",
      "2226\n",
      "2233\n",
      "2247\n",
      "2254\n",
      "2261\n",
      "2268\n",
      "2282\n",
      "2289\n",
      "2296\n",
      "2303\n",
      "2317\n",
      "2324\n",
      "2331\n",
      "2338\n",
      "2352\n",
      "2359\n",
      "2366\n",
      "2373\n",
      "2387\n",
      "2394\n",
      "2401\n",
      "2408\n",
      "2422\n",
      "2429\n",
      "2436\n",
      "2443\n",
      "2457\n",
      "2464\n",
      "2471\n",
      "2478\n",
      "2492\n",
      "2499\n",
      "2506\n",
      "2513\n",
      "2527\n",
      "2534\n",
      "2541\n",
      "2548\n",
      "2562\n",
      "2569\n",
      "2576\n",
      "2583\n",
      "2597\n",
      "2604\n",
      "2611\n",
      "2618\n",
      "2632\n",
      "2639\n",
      "2646\n",
      "2653\n",
      "2667\n",
      "2674\n",
      "2681\n",
      "2688\n",
      "2702\n",
      "2709\n",
      "2716\n",
      "2723\n",
      "2737\n",
      "2744\n",
      "2751\n",
      "2758\n",
      "2772\n",
      "2779\n",
      "2786\n",
      "2793\n",
      "2807\n",
      "2814\n",
      "2821\n",
      "2828\n",
      "2842\n",
      "2849\n",
      "2856\n",
      "2863\n",
      "2877\n",
      "2884\n",
      "2891\n",
      "2898\n",
      "2912\n",
      "2919\n",
      "2926\n",
      "2933\n",
      "2947\n",
      "2954\n",
      "2961\n",
      "2968\n",
      "2982\n",
      "2989\n",
      "2996\n",
      "3003\n",
      "3017\n",
      "3024\n",
      "3031\n",
      "3038\n",
      "3052\n",
      "3059\n",
      "3066\n",
      "3073\n",
      "3087\n",
      "3094\n",
      "3101\n",
      "3108\n",
      "3122\n",
      "3129\n",
      "3136\n",
      "3143\n",
      "3157\n",
      "3164\n",
      "3171\n",
      "3178\n",
      "3192\n",
      "3199\n"
     ]
    }
   ],
   "source": [
    "# 5. Write a program in Python which will find all such numbers which are divisible by 7 but are not a multiple of 5, between 2000 and 3200.\n",
    "\n",
    "print(\"Numbers which are divisible by 7 but are not a multiple of 5 are : \")\n",
    "for i in range(2000,3200):\n",
    "    if (i % 7 == 0) and (i % 5 != 0) :\n",
    "        print(i)"
   ]
  },
  {
   "cell_type": "code",
   "execution_count": 18,
   "metadata": {
    "scrolled": true
   },
   "outputs": [
    {
     "name": "stdout",
     "output_type": "stream",
     "text": [
      "0\n",
      "1\n",
      "2\n",
      "3\n",
      "4\n"
     ]
    }
   ],
   "source": [
    "#  #6. What is the output of the following code examples?\n",
    "#1\n",
    "'''\n",
    "x=123\n",
    "for i in x:\n",
    "    print(i)\n",
    "\n",
    "# Int object is not iterable\n",
    "'''\n",
    "#2\n",
    "'''\n",
    "i = 0\n",
    "while i < 5:\n",
    "    print(i)\n",
    "    i += 1\n",
    "    if i == 3:\n",
    "        break\n",
    "    else:\n",
    "        print(\"error\")\n",
    "\n",
    "# output\n",
    "0\n",
    "error\n",
    "1\n",
    "error\n",
    "2\n",
    "'''\n",
    "\n",
    "#3\n",
    "'''\n",
    "count = 0\n",
    "while True:\n",
    "    print(count)\n",
    "    count += 1\n",
    "    if count >= 5:\n",
    "        break\n",
    "# output\n",
    "0\n",
    "1\n",
    "2\n",
    "3\n",
    "4\n",
    "'''\n",
    "\n"
   ]
  },
  {
   "cell_type": "code",
   "execution_count": 21,
   "metadata": {},
   "outputs": [
    {
     "name": "stdout",
     "output_type": "stream",
     "text": [
      "0\n",
      "1\n",
      "2\n",
      "4\n",
      "5\n"
     ]
    }
   ],
   "source": [
    "#7. Write a program that prints all the numbers from 0 to 6 except 3 and 6.\n",
    "\n",
    "# Expected output: 0 1 2 4 5\n",
    "\n",
    "# Note: Use ‘continue’ statement\n",
    "\n",
    "for i in range(6):\n",
    "    if i == 3 or i == 6:\n",
    "        continue\n",
    "    else:\n",
    "        print(i)"
   ]
  },
  {
   "cell_type": "code",
   "execution_count": 29,
   "metadata": {},
   "outputs": [
    {
     "name": "stdout",
     "output_type": "stream",
     "text": [
      "Enter a string Consul12\n",
      "Letters =  6\n",
      "Digits =  2\n"
     ]
    }
   ],
   "source": [
    "# 8. Write a program that accepts a string as an input from user and calculate the number of digits and letters.\n",
    "\n",
    "# Expected output: consul12\n",
    "\n",
    "# Letters 6\n",
    "\n",
    "# Digits 2\n",
    "x= input(\"Enter a string \")\n",
    "digits=0\n",
    "letters=0\n",
    "for ch in x:\n",
    "    if ch.isdigit():\n",
    "        digits+=1\n",
    "    else:\n",
    "        letters+=1\n",
    "print(\"Letters = \",letters)\n",
    "print(\"Digits = \",digits)"
   ]
  },
  {
   "cell_type": "code",
   "execution_count": 1,
   "metadata": {},
   "outputs": [
    {
     "name": "stdout",
     "output_type": "stream",
     "text": [
      "guess the Lucky number 9\n",
      "Do you want to continue guessing ? yes\n",
      "guess the Lucky number 5\n",
      "Do you want to continue guessing ? no\n",
      "Better luck next time. Good-Bye!\n"
     ]
    }
   ],
   "source": [
    "# 9. Read the two parts of the question below:\n",
    "\n",
    "# ● Write a program such that it asks users to “guess the lucky number”. If the correct number is guessed the program stops, otherwise it continues forever.\n",
    "'''\n",
    "lucky_number = 3\n",
    "\n",
    "while True:\n",
    "    guess= int(input(\"guess the Lucky number \"))\n",
    "    if guess == lucky_number:\n",
    "        print('You guessed it right!')\n",
    "        break\n",
    "    else :\n",
    "        continue\n",
    "'''\n",
    "\n",
    "# ● Modify the program so that it asks users whether they want to guess again each time. Use two variables, ‘number’ for the number and ‘answer’ for the answer to the question whether they want to continue guessing. The program stops if the user guesses the correct number or answers “no”. ( The program continues as long as a user has not answered “no” and has not guessed the correct number)\n",
    "number = 3\n",
    "\n",
    "while True:\n",
    "    guess= int(input(\"guess the Lucky number \"))\n",
    "    if guess == number:\n",
    "        print('You guessed it right!')\n",
    "        break\n",
    "    else :\n",
    "        answer = input('Do you want to continue guessing ? ')\n",
    "        if answer != 'no':\n",
    "            continue\n",
    "        else:\n",
    "            print('Better luck next time. Good-Bye!')\n",
    "            break"
   ]
  },
  {
   "cell_type": "code",
   "execution_count": 2,
   "metadata": {},
   "outputs": [
    {
     "name": "stdout",
     "output_type": "stream",
     "text": [
      "Type in the 1 number\n",
      "guess the Lucky number 5\n",
      "Try again!\n",
      "Type in the 2 number\n",
      "guess the Lucky number 8\n",
      "Try again!\n",
      "Type in the 3 number\n",
      "guess the Lucky number 9\n",
      "Try again!\n",
      "Type in the 4 number\n",
      "guess the Lucky number 6\n",
      "Try again!\n",
      "Type in the 5 number\n",
      "guess the Lucky number 3\n",
      "Good Guess!\n"
     ]
    }
   ],
   "source": [
    "# 10. Write a program that asks five times to guess the lucky number. Use a while loop and a counter, such as\n",
    "\n",
    "# counter=1\n",
    "\n",
    "# While counter <= 5:\n",
    "\n",
    "# print(“Type in the”, counter, “number”\n",
    "\n",
    "# counter=counter+1\n",
    "\n",
    "# The program asks for five guesses (no matter whether the correct number was guessed or not). If the correct number is guessed, the program outputs “Good guess!”, otherwise it outputs “Try again!”. After the fifth guess it stops and prints “Game over!”.\n",
    "number = 3\n",
    "counter = 1\n",
    "\n",
    "while counter <=5:\n",
    "    print('Type in the', counter, 'number')\n",
    "    guess= int(input(\"guess the Lucky number \"))\n",
    "    if guess == number:\n",
    "        print('Good Guess!')\n",
    "    elif counter ==5:\n",
    "        print(\"Game Over!\")\n",
    "        break\n",
    "    else :\n",
    "        print('Try again!')\n",
    "        counter+=1\n",
    "        continue\n",
    "\n",
    "    "
   ]
  },
  {
   "cell_type": "code",
   "execution_count": 3,
   "metadata": {},
   "outputs": [
    {
     "name": "stdout",
     "output_type": "stream",
     "text": [
      "Type in the 1 number\n",
      "guess the Lucky number 9\n",
      "Try again!\n",
      "Type in the 2 number\n",
      "guess the Lucky number 8\n",
      "Try again!\n",
      "Type in the 3 number\n",
      "guess the Lucky number 7\n",
      "Try again!\n",
      "Type in the 4 number\n",
      "guess the Lucky number 6\n",
      "Try again!\n",
      "Type in the 5 number\n",
      "guess the Lucky number 5\n",
      "Sorry but that was not very successful\n",
      "Game Over!\n"
     ]
    }
   ],
   "source": [
    "\n",
    "\n",
    "# 11. In the previous question, insert “break” after the “Good guess!” print statement. “break” will terminate the while loop so that users do not have to continue guessing after they found the number. If the user does not guess the number at all, print “Sorry but that was not very successful”.\n",
    "number = 3\n",
    "counter = 1\n",
    "\n",
    "while counter <=5:\n",
    "    print('Type in the', counter, 'number')\n",
    "    guess= int(input(\"guess the Lucky number \"))\n",
    "    if guess == number:\n",
    "        print('Good Guess!')\n",
    "        break\n",
    "    elif counter ==5:\n",
    "        print(\"Sorry but that was not very successful\")\n",
    "        print(\"Game Over!\")\n",
    "        break\n",
    "    else :\n",
    "        print('Try again!')\n",
    "        counter+=1\n",
    "        continue"
   ]
  },
  {
   "cell_type": "code",
   "execution_count": null,
   "metadata": {},
   "outputs": [],
   "source": []
  }
 ],
 "metadata": {
  "kernelspec": {
   "display_name": "Python 3",
   "language": "python",
   "name": "python3"
  },
  "language_info": {
   "codemirror_mode": {
    "name": "ipython",
    "version": 3
   },
   "file_extension": ".py",
   "mimetype": "text/x-python",
   "name": "python",
   "nbconvert_exporter": "python",
   "pygments_lexer": "ipython3",
   "version": "3.7.6"
  }
 },
 "nbformat": 4,
 "nbformat_minor": 4
}
