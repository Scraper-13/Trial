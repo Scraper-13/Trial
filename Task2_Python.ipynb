{
 "cells": [
  {
   "cell_type": "code",
   "execution_count": 2,
   "metadata": {},
   "outputs": [],
   "source": [
    "# TASK TWO: OPERATORS AND DECISION MAKING STATEMENTS"
   ]
  },
  {
   "cell_type": "code",
   "execution_count": 4,
   "metadata": {},
   "outputs": [
    {
     "name": "stdout",
     "output_type": "stream",
     "text": [
      "Consultadd\n",
      "c\n",
      "Consultadd Python Training\n"
     ]
    }
   ],
   "source": [
    "# 1. Write a program in Python to perform the following operation:\n",
    "\n",
    "# ● If a number is divisible by 3 it should print “Consultadd” as a string\n",
    "\n",
    "# ● If a number is divisible by 5 it should print “c” as a string\n",
    "\n",
    "# ● If a number is divisible by both 3 and 5 its should print “Consultadd\n",
    "\n",
    "# # Python Training” as a string\n",
    "\n",
    "num = 15\n",
    "if num % 3 == 0:\n",
    "    print(\"Consultadd\")\n",
    "if num % 5 == 0:\n",
    "    print(\"c\")\n",
    "if (num % 3 == 0) and num % 5 == 0:\n",
    "    print(\"Consultadd Python Training\")"
   ]
  },
  {
   "cell_type": "code",
   "execution_count": 5,
   "metadata": {},
   "outputs": [
    {
     "name": "stdout",
     "output_type": "stream",
     "text": [
      "choose the following option first 1 - Addition, 2 - Subtraction, 3 - Division,  4 - Multiplication, 5 - Average1\n",
      "Enter first number 5\n",
      "Enter second number4\n",
      "Addition of two numbers is 9\n"
     ]
    }
   ],
   "source": [
    "# 2. Write a program in Python to perform the following operator based task:\n",
    "# ● Ask the user to choose the following option first:\n",
    "# ○ If User Enter 1 - Addition\n",
    "# ○ If User Enter 2 - Subtraction\n",
    "# ○ If User Enter 3 - Division\n",
    "# ○ If USer Enter 4 - Multiplication\n",
    "# ○ If User Enter 5 - Average\n",
    "# ● Ask the user to enter the 2 numbers in a variable for first and second for\n",
    "# the first 4 options mentioned above.\n",
    "# ● Ask the user to enter two more numbers as first1 and second2 for\n",
    "# calculating the average as soon as the user chooses an option 5.\n",
    "# ● In the end, if the answer of any operation is Negative print a statement\n",
    "# saying “Zsa”\n",
    "# ● NOTE: At a time users can perform one action at a time.\n",
    "action = int(input(\"choose the following option first 1 - Addition, 2 - Subtraction, 3 - Division,  4 - Multiplication, 5 - Average\"))\n",
    "num_1 = int(input(\"Enter first number \"))\n",
    "num_2 = int(input(\"Enter second number\"))\n",
    "\n",
    "if action == 1:\n",
    "    answer = num_1+num_2\n",
    "    print(f'Addition of two numbers is {answer}')\n",
    "if action == 2:\n",
    "    answer = num_1-num_2\n",
    "    print(f'Subtraction of two numbers is {answer}')\n",
    "if action == 3:\n",
    "    answer = num_1/num_2\n",
    "    print(f'Division of two numbers is {answer}')\n",
    "if action == 4:\n",
    "    answer = num_1*num_2\n",
    "    print(f'Multiplication of two numbers is {answer}')\n",
    "if action == 5:\n",
    "    first1 = int(input('Enter a number'))\n",
    "    second2 = int(input('Enter another number'))\n",
    "    answer = (num_1+num_2+first1+second2)/4\n",
    "    print(f'Average of all numbers is {answer}')\n",
    "if answer < 0 :\n",
    "    print(\"Zsa\")\n",
    "\n"
   ]
  },
  {
   "cell_type": "code",
   "execution_count": 6,
   "metadata": {},
   "outputs": [
    {
     "name": "stdout",
     "output_type": "stream",
     "text": [
      "avg =  20.0\n",
      "Average is just higher than a\n"
     ]
    }
   ],
   "source": [
    "# 3. Write a program in Python to implement the given flowchart:\n",
    "\n",
    "\n",
    "a = 10\n",
    "b = 20\n",
    "c = 30\n",
    "avg = (a+b+c)/3\n",
    "print(\"avg = \",avg)\n",
    "\n",
    "if avg > a and avg > b and avg > c :\n",
    "    print('Average is higher than a, b , c')\n",
    "else:\n",
    "    if avg > a and avg > b :\n",
    "        print('Average is higher than a, b')\n",
    "    elif avg > a and avg > c :\n",
    "        print('Average is higher than a, c')\n",
    "    elif avg > b and avg > c :\n",
    "        print('Average is higher than b, c')\n",
    "    else: \n",
    "        if avg > a :\n",
    "            print('Average is just higher than a')\n",
    "        elif avg > b :\n",
    "            print('Average is just higher than b')\n",
    "        elif avg > c :\n",
    "            print('Average is just higher than c')\n",
    "    "
   ]
  },
  {
   "cell_type": "code",
   "execution_count": 7,
   "metadata": {},
   "outputs": [
    {
     "name": "stdout",
     "output_type": "stream",
     "text": [
      "Enter a number5\n",
      "Good Going\n",
      "Enter a number2\n",
      "Good Going\n",
      "Enter a number-1\n",
      "It's over\n"
     ]
    }
   ],
   "source": [
    "# 4. Write a program in Python to break and continue if the following cases occurs:\n",
    "\n",
    "# If user enters a negative number just break the loop and print “It’s Over”\n",
    "\n",
    "# ● If user enters a positive number just continue in the loop and print “Good Going\n",
    "\n",
    "while True: \n",
    "    x = int(input(\"Enter a number\"))\n",
    "    if x < 0:\n",
    "        print(\"It's over\")\n",
    "        break\n",
    "    else:\n",
    "        print(\"Good Going\")\n",
    "        continue"
   ]
  },
  {
   "cell_type": "code",
   "execution_count": 12,
   "metadata": {},
   "outputs": [
    {
     "name": "stdout",
     "output_type": "stream",
     "text": [
      "Numbers which are divisible by 7 but are not a multiple of 5 are : \n",
      "[2002, 2009, 2016, 2023, 2037, 2044, 2051, 2058, 2072, 2079, 2086, 2093, 2107, 2114, 2121, 2128, 2142, 2149, 2156, 2163, 2177, 2184, 2191, 2198, 2212, 2219, 2226, 2233, 2247, 2254, 2261, 2268, 2282, 2289, 2296, 2303, 2317, 2324, 2331, 2338, 2352, 2359, 2366, 2373, 2387, 2394, 2401, 2408, 2422, 2429, 2436, 2443, 2457, 2464, 2471, 2478, 2492, 2499, 2506, 2513, 2527, 2534, 2541, 2548, 2562, 2569, 2576, 2583, 2597, 2604, 2611, 2618, 2632, 2639, 2646, 2653, 2667, 2674, 2681, 2688, 2702, 2709, 2716, 2723, 2737, 2744, 2751, 2758, 2772, 2779, 2786, 2793, 2807, 2814, 2821, 2828, 2842, 2849, 2856, 2863, 2877, 2884, 2891, 2898, 2912, 2919, 2926, 2933, 2947, 2954, 2961, 2968, 2982, 2989, 2996, 3003, 3017, 3024, 3031, 3038, 3052, 3059, 3066, 3073, 3087, 3094, 3101, 3108, 3122, 3129, 3136, 3143, 3157, 3164, 3171, 3178, 3192, 3199]\n"
     ]
    }
   ],
   "source": [
    "#5. Write a program in Python which will find all such numbers which are divisible by 7 but are not a multiple of 5, between 2000 and 3200.\n",
    "\n",
    "numbers=[]\n",
    "print(\"Numbers which are divisible by 7 but are not a multiple of 5 are : \")\n",
    "for i in range(2000,3200):\n",
    "    if (i % 7 == 0) and (i % 5 != 0) :\n",
    "        numbers.append(i)\n",
    "print(numbers)"
   ]
  },
  {
   "cell_type": "code",
   "execution_count": 13,
   "metadata": {},
   "outputs": [
    {
     "data": {
      "text/plain": [
       "'\\ncount = 0\\nwhile True:\\n    print(count)\\n    count += 1\\n    if count >= 5:\\n        break\\n# output\\n0\\n1\\n2\\n3\\n4\\n'"
      ]
     },
     "execution_count": 13,
     "metadata": {},
     "output_type": "execute_result"
    }
   ],
   "source": [
    "#6. What is the output of the following code examples?\n",
    "#1\n",
    "'''\n",
    "x=123\n",
    "for i in x:\n",
    "    print(i)\n",
    "\n",
    "# Int object is not iterable\n",
    "'''\n",
    "#2\n",
    "'''\n",
    "i = 0\n",
    "while i < 5:\n",
    "    print(i)\n",
    "    i += 1\n",
    "    if i == 3:\n",
    "        break\n",
    "    else:\n",
    "        print(\"error\")\n",
    "\n",
    "# output\n",
    "0\n",
    "error\n",
    "1\n",
    "error\n",
    "2\n",
    "'''\n",
    "\n",
    "#3\n",
    "'''\n",
    "count = 0\n",
    "while True:\n",
    "    print(count)\n",
    "    count += 1\n",
    "    if count >= 5:\n",
    "        break\n",
    "# output\n",
    "0\n",
    "1\n",
    "2\n",
    "3\n",
    "4\n",
    "'''\n",
    "\n"
   ]
  },
  {
   "cell_type": "code",
   "execution_count": 15,
   "metadata": {},
   "outputs": [
    {
     "name": "stdout",
     "output_type": "stream",
     "text": [
      "0\n",
      "1\n",
      "2\n",
      "4\n",
      "5\n"
     ]
    }
   ],
   "source": [
    "#7. Write a program that prints all the numbers from 0 to 6 except 3 and 6.\n",
    "\n",
    "# Expected output: 0 1 2 4 5\n",
    "\n",
    "# Note: Use ‘continue’ statement\n",
    "\n",
    "for i in range(6):\n",
    "    if i == 3 or i == 6:\n",
    "        continue\n",
    "    else:\n",
    "        print(i)"
   ]
  },
  {
   "cell_type": "code",
   "execution_count": 16,
   "metadata": {},
   "outputs": [
    {
     "name": "stdout",
     "output_type": "stream",
     "text": [
      "Enter a string deepen1992\n",
      "Letters =  6\n",
      "Digits =  4\n"
     ]
    }
   ],
   "source": [
    "# 8. Write a program that accepts a string as an input from user and calculate the number of digits and letters.\n",
    "\n",
    "# Expected output: consul12\n",
    "\n",
    "# Letters 6\n",
    "\n",
    "# Digits 2\n",
    "x= input(\"Enter a string \")\n",
    "digits=0\n",
    "letters=0\n",
    "for ch in x:\n",
    "    if ch.isdigit():\n",
    "        digits+=1\n",
    "    else:\n",
    "        letters+=1\n",
    "print(\"Letters = \",letters)\n",
    "print(\"Digits = \",digits)"
   ]
  },
  {
   "cell_type": "code",
   "execution_count": 17,
   "metadata": {},
   "outputs": [
    {
     "name": "stdout",
     "output_type": "stream",
     "text": [
      "guess the Lucky number 9\n",
      "Do you want to continue guessing ? yes\n",
      "guess the Lucky number 5\n",
      "Do you want to continue guessing ? no\n",
      "Better luck next time. Good-Bye!\n"
     ]
    }
   ],
   "source": [
    "# 9. Read the two parts of the question below:\n",
    "\n",
    "# ● Write a program such that it asks users to “guess the lucky number”. If the correct number is guessed the program stops, otherwise it continues forever.\n",
    "'''\n",
    "lucky_number = 3\n",
    "\n",
    "while True:\n",
    "    guess= int(input(\"guess the Lucky number \"))\n",
    "    if guess == lucky_number:\n",
    "        print('You guessed it right!')\n",
    "        break\n",
    "    else :\n",
    "        continue\n",
    "'''\n",
    "\n",
    "# ● Modify the program so that it asks users whether they want to guess again each time. Use two variables, ‘number’ for the number and ‘answer’ for the answer to the question whether they want to continue guessing. The program stops if the user guesses the correct number or answers “no”. ( The program continues as long as a user has not answered “no” and has not guessed the correct number)\n",
    "number = 3\n",
    "\n",
    "while True:\n",
    "    guess= int(input(\"guess the Lucky number \"))\n",
    "    if guess == number:\n",
    "        print('You guessed it right!')\n",
    "        break\n",
    "    else :\n",
    "        answer = input('Do you want to continue guessing ? ')\n",
    "        if answer != 'no':\n",
    "            continue\n",
    "        else:\n",
    "            print('Better luck next time. Good-Bye!')\n",
    "            break"
   ]
  },
  {
   "cell_type": "code",
   "execution_count": 2,
   "metadata": {},
   "outputs": [
    {
     "name": "stdout",
     "output_type": "stream",
     "text": [
      "Type in the 1 number\n",
      "guess the Lucky number 5\n",
      "Try again!\n",
      "Type in the 2 number\n",
      "guess the Lucky number 8\n",
      "Try again!\n",
      "Type in the 3 number\n",
      "guess the Lucky number 9\n",
      "Try again!\n",
      "Type in the 4 number\n",
      "guess the Lucky number 6\n",
      "Try again!\n",
      "Type in the 5 number\n",
      "guess the Lucky number 3\n",
      "Good Guess!\n"
     ]
    }
   ],
   "source": [
    "# 10. Write a program that asks five times to guess the lucky number. Use a while loop and a counter, such as\n",
    "\n",
    "# counter=1\n",
    "\n",
    "# While counter <= 5:\n",
    "\n",
    "# print(“Type in the”, counter, “number”\n",
    "\n",
    "# counter=counter+1\n",
    "\n",
    "# The program asks for five guesses (no matter whether the correct number was guessed or not). If the correct number is guessed, the program outputs “Good guess!”, otherwise it outputs “Try again!”. After the fifth guess it stops and prints “Game over!”.\n",
    "number = 3\n",
    "counter = 1\n",
    "\n",
    "while counter <=5:\n",
    "    print('Type in the', counter, 'number')\n",
    "    guess= int(input(\"guess the Lucky number \"))\n",
    "    if guess == number:\n",
    "        counter+=1\n",
    "        print('Good Guess!')\n",
    "    elif counter ==5:\n",
    "        print(\"Game Over!\")\n",
    "        break\n",
    "    else :\n",
    "        print('Try again!')\n",
    "        counter+=1\n",
    "        continue\n",
    "\n",
    "    "
   ]
  },
  {
   "cell_type": "code",
   "execution_count": 3,
   "metadata": {},
   "outputs": [
    {
     "name": "stdout",
     "output_type": "stream",
     "text": [
      "Type in the 1 number\n",
      "guess the Lucky number 9\n",
      "Try again!\n",
      "Type in the 2 number\n",
      "guess the Lucky number 6\n",
      "Try again!\n",
      "Type in the 3 number\n",
      "guess the Lucky number 5\n",
      "Try again!\n",
      "Type in the 4 number\n",
      "guess the Lucky number 3\n",
      "Good Guess!\n"
     ]
    }
   ],
   "source": [
    "# 11. In the previous question, insert “break” after the “Good guess!” print statement. “break” will terminate the while loop so that users do not have to continue guessing after they found the number. If the user does not guess the number at all, print “Sorry but that was not very successful”.\n",
    "number = 3\n",
    "counter = 1\n",
    "\n",
    "while counter <=5:\n",
    "    print('Type in the', counter, 'number')\n",
    "    guess= int(input(\"guess the Lucky number \"))\n",
    "    if guess == number:\n",
    "        print('Good Guess!')\n",
    "        break\n",
    "    elif counter ==5:\n",
    "        print(\"Sorry but that was not very successful\")\n",
    "        print(\"Game Over!\")\n",
    "        break\n",
    "    else :\n",
    "        print('Try again!')\n",
    "        counter+=1\n",
    "        continue"
   ]
  }
 ],
 "metadata": {
  "kernelspec": {
   "display_name": "Python 3",
   "language": "python",
   "name": "python3"
  },
  "language_info": {
   "codemirror_mode": {
    "name": "ipython",
    "version": 3
   },
   "file_extension": ".py",
   "mimetype": "text/x-python",
   "name": "python",
   "nbconvert_exporter": "python",
   "pygments_lexer": "ipython3",
   "version": "3.7.6"
  }
 },
 "nbformat": 4,
 "nbformat_minor": 4
}
